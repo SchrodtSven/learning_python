{
 "cells": [
  {
   "cell_type": "markdown",
   "metadata": {},
   "source": [
    "<br><br><center><h1 style=\"font-size:2em;color:#2467C0\">Tagesaufgaben</h1></center>\n",
    "<br>\n"
   ]
  },
  {
   "cell_type": "markdown",
   "metadata": {},
   "source": [
    "# Numpy"
   ]
  },
  {
   "cell_type": "markdown",
   "metadata": {},
   "source": [
    "## Aufgabe 1"
   ]
  },
  {
   "cell_type": "markdown",
   "metadata": {},
   "source": [
    "<div  class=\"alert alert-block alert-info\">\n",
    "1. Erstelle ein eindimensionales array und wandel es anschließend in ein zweidimensionales array der folgenden Form um:\n",
    "\n",
    "    Output:\n",
    "    [[12 23]\n",
    "     [31 25]\n",
    "     [65 98]]\n",
    "</div>"
   ]
  },
  {
   "cell_type": "code",
   "execution_count": 1,
   "metadata": {},
   "outputs": [
    {
     "name": "stdout",
     "output_type": "stream",
     "text": [
      "[[12 23]\n",
      " [31 25]\n",
      " [65 98]]\n",
      "[[12 23]\n",
      " [31 25]\n",
      " [65 98]]\n"
     ]
    }
   ],
   "source": [
    "import numpy as np\n",
    "# \"Von Hand\"\n",
    "oned = np.array([12, 23, 31, 25, 65, 98])\n",
    "threed = np.array([oned[0:2], oned[2:4], oned[4:6]])\n",
    "print(threed)\n",
    "# oder so:\n",
    "print(oned.reshape(3, 2))\n",
    "# print(len(threed))\n",
    "    "
   ]
  },
  {
   "cell_type": "markdown",
   "metadata": {},
   "source": [
    "<div  class=\"alert alert-block alert-info\">\n",
    "2. Gegeben sind folgende Arrays. Schreibe eine Funktion die überprüft, ob ein array eindimensional oder zweidimensional ist. Wenn das array eindimensional ist, soll es in ein zweidimensionales der Form 2,2 umgewandelt werden. Wenn es zweidimensional ist, soll es in ein eindimensionales umgewandelt werden. Optional: Teste weitere Arrays an deiner Funktion und füge eine try&except Bedingung mit ein, um eventuelle error abzufangen.\n",
    "\n",
    "    Output:\n",
    "    [[20 23]\n",
    "     [12 34]]\n",
    "     [23 34 12 45]\n",
    "\n",
    "</div>"
   ]
  },
  {
   "cell_type": "code",
   "execution_count": 46,
   "metadata": {},
   "outputs": [
    {
     "name": "stdout",
     "output_type": "stream",
     "text": [
      "[[20 23]\n",
      " [12 34]]\n",
      "[23 34 12 45]\n"
     ]
    }
   ],
   "source": [
    "def redim_array(foo):\n",
    "    dim = np.ndim(foo)\n",
    "    if dim ==1:\n",
    "        arr = foo.reshape(2,2)\n",
    "    elif dim ==2:\n",
    "        arr = foo.flatten()\n",
    "    else:\n",
    "        \n",
    "        arr = None\n",
    "    \n",
    "    return arr\n",
    "\n",
    "array1 = np.array([20,23,12,34])\n",
    "array2 = np.array([[23,34],[12,45]])\n",
    "ra1 = redim_array(array1)\n",
    "ra2 = redim_array(array2)\n",
    "print(ra1)\n",
    "print(ra2)\n",
    "# Just testing ...\n",
    "array3 = np.array([[[1, 12, 33], [23, 34, 66], [45, 56, 99]]])\n",
    "assert(redim_array(array3) == None)\n",
    "\n"
   ]
  },
  {
   "cell_type": "markdown",
   "metadata": {},
   "source": [
    "<div  class=\"alert alert-block alert-info\">\n",
    "3. Gegeben ist folgendes Array. Sortiere die Zahlen im Array.\n",
    "\n",
    "    Output:\n",
    "    [12 20 23 34]\n",
    "</div>"
   ]
  },
  {
   "cell_type": "code",
   "execution_count": 2,
   "metadata": {},
   "outputs": [
    {
     "name": "stdout",
     "output_type": "stream",
     "text": [
      "[12 20 23 34]\n"
     ]
    }
   ],
   "source": [
    "array1 = np.array([20,23,12,34])\n",
    "array1.sort()\n",
    "print(array1)"
   ]
  },
  {
   "cell_type": "markdown",
   "metadata": {},
   "source": [
    "<div  class=\"alert alert-block alert-info\">\n",
    "4. Erstelle zwei arrays. Füge beide arrays zusammen. Nutze dafür zwei verschiedene Befehle.\n",
    "\n",
    "    Output:\n",
    "    [20 23 12 34 23 34 12 45]\n",
    "    [20 23 12 34 23 34 12 45]\n",
    "</div>"
   ]
  },
  {
   "cell_type": "code",
   "execution_count": null,
   "metadata": {},
   "outputs": [
    {
     "name": "stdout",
     "output_type": "stream",
     "text": [
      "[20 23 12 34 23 34 12 45]\n",
      "[20 23 12 34 23 34 12 45]\n"
     ]
    }
   ],
   "source": [
    "li1 = [20, 23, 12, 34]\n",
    "li2 = [23, 34, 12, 45]\n",
    "arr1 = np.array(li1)\n",
    "arr2 = np.array(li2)\n",
    "\n",
    "# Variante A\n",
    "arr_neu1 = np.array(li1+li2)\n",
    "\n",
    "# Variante B\n",
    "arr_neu2 = np.concatenate((arr1, arr2))\n",
    "\n",
    "print(arr_neu1)\n",
    "print(arr_neu2)"
   ]
  },
  {
   "cell_type": "markdown",
   "metadata": {},
   "source": [
    "<div  class=\"alert alert-block alert-info\">\n",
    "5. Erstelle ein eindimensionales array und teile es in zwei arrays auf. Optional: Speichere das Ergebnis der Teilung in zwei Variablen. Nutze dafür nur eine Zeile Code.\n",
    "\n",
    "    Output:\n",
    "    [array([20, 23]), array([12, 34])]\n",
    "</div>"
   ]
  },
  {
   "cell_type": "code",
   "execution_count": 47,
   "metadata": {},
   "outputs": [
    {
     "name": "stdout",
     "output_type": "stream",
     "text": [
      "[20 23] [12 34]\n"
     ]
    }
   ],
   "source": [
    "arr1, arr2 = np.split(np.array([20, 23, 12, 34]), 2)\n",
    "print(arr1, arr2)"
   ]
  },
  {
   "cell_type": "markdown",
   "metadata": {},
   "source": [
    "<div  class=\"alert alert-block alert-info\">\n",
    "6. Gegeben ist folgendes array. Lass dir die Index Position ausgeben, an der sich der Name Sara befindet.\n",
    "\n",
    "    Output:\n",
    "    (array([1], dtype=int64),)\n",
    "</div>"
   ]
  },
  {
   "cell_type": "code",
   "execution_count": 49,
   "metadata": {},
   "outputs": [
    {
     "name": "stdout",
     "output_type": "stream",
     "text": [
      "[1]\n",
      "(array([1]),)\n"
     ]
    }
   ],
   "source": [
    "array3 = np.array([\"Alex\", \"Sara\", \"Annika\", \"Max\", \"Julian\"])\n",
    "result = np.where(array3 == 'Sara')\n",
    "print(result[0])\n",
    "print(result)"
   ]
  },
  {
   "cell_type": "markdown",
   "metadata": {},
   "source": [
    "<div  class=\"alert alert-block alert-info\">\n",
    "7. Gegeben ist folgendes array. Durchsuche wieder das array nach dem Namen Sara aber lass dir dieses Mal eine Liste mit Booleschen Werten für jeden Index des array ausgeben.\n",
    "\n",
    "    Output:\n",
    "    [False  True False False False]\n",
    "</div>"
   ]
  },
  {
   "cell_type": "code",
   "execution_count": 50,
   "metadata": {},
   "outputs": [
    {
     "name": "stdout",
     "output_type": "stream",
     "text": [
      "[False, True, False, False, False]\n",
      "[False  True False False False]\n"
     ]
    }
   ],
   "source": [
    "array3 = np.array([\"Alex\", \"Sara\", \"Annika\", \"Max\", \"Julian\"])\n",
    "\n",
    "r = [True if x == 'Sara' else False for x in array3]\n",
    "print(r)\n",
    "\n",
    "# Oder:\n",
    "\n",
    "result = np.where(array3 == 'Sara', True, False)\n",
    "print(result)"
   ]
  },
  {
   "cell_type": "markdown",
   "metadata": {},
   "source": [
    "<div  class=\"alert alert-block alert-info\">\n",
    "8. Gegeben ist folgendes array. Überprüfe ob in dem array der Name Hans vorkommt.\n",
    "\n",
    "    Output:\n",
    "    False\n",
    "</div>"
   ]
  },
  {
   "cell_type": "code",
   "execution_count": 35,
   "metadata": {},
   "outputs": [
    {
     "name": "stdout",
     "output_type": "stream",
     "text": [
      "False\n"
     ]
    }
   ],
   "source": [
    "array3 = np.array([\"Alex\", \"Sara\", \"Annika\", \"Max\", \"Julian\"])\n",
    "print('Hans' in array3)\n",
    "assert('Annika' in array3)"
   ]
  },
  {
   "cell_type": "markdown",
   "metadata": {},
   "source": [
    "<div  class=\"alert alert-block alert-info\">\n",
    "9. Erstelle ein eindimensionales array mit 8 Zahlen. Lass dir den maximalen Wert und die Summe der Zahlen im array ausgeben.\n",
    "\n",
    "    Output:\n",
    "    67\n",
    "    206\n",
    "</div>"
   ]
  },
  {
   "cell_type": "code",
   "execution_count": 11,
   "metadata": {},
   "outputs": [
    {
     "name": "stdout",
     "output_type": "stream",
     "text": [
      "11\n",
      "456\n"
     ]
    }
   ],
   "source": [
    "foo = np.array([22, 456, 77, 12, 33, 44, 32, 11])\n",
    "print(np.amin(foo))\n",
    "print(np.amax(foo))"
   ]
  },
  {
   "cell_type": "markdown",
   "metadata": {},
   "source": [
    "<div  class=\"alert alert-block alert-info\">\n",
    "10. Lass dir den Mittelwert des arrays aus Aufgabe 9 ausgeben.\n",
    "\n",
    "    Output:\n",
    "    25.75\n",
    "</div>"
   ]
  },
  {
   "cell_type": "code",
   "execution_count": 32,
   "metadata": {},
   "outputs": [
    {
     "name": "stdout",
     "output_type": "stream",
     "text": [
      "85.875\n"
     ]
    }
   ],
   "source": [
    "print(np.mean(foo))\n",
    "assert(np.mean(foo) == sum(foo)/len(foo))"
   ]
  },
  {
   "cell_type": "markdown",
   "metadata": {},
   "source": [
    "# Optional"
   ]
  },
  {
   "cell_type": "markdown",
   "metadata": {},
   "source": [
    "Fasse die Lerninhalte von heute nochmal zusammen und notiere dir Fragen, die dir dabei kommen!"
   ]
  }
 ],
 "metadata": {
  "kernelspec": {
   "display_name": "Python 3",
   "language": "python",
   "name": "python3"
  },
  "language_info": {
   "codemirror_mode": {
    "name": "ipython",
    "version": 3
   },
   "file_extension": ".py",
   "mimetype": "text/x-python",
   "name": "python",
   "nbconvert_exporter": "python",
   "pygments_lexer": "ipython3",
   "version": "3.13.1"
  }
 },
 "nbformat": 4,
 "nbformat_minor": 1
}
