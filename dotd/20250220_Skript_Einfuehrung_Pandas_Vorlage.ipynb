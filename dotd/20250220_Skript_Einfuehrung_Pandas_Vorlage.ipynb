{
 "cells": [
  {
   "cell_type": "markdown",
   "metadata": {},
   "source": [
    "# Pandas\n",
    "<br> Eine Library für die Daten Manipulation und Analyse durch spezielle Funktionen und Datenstrukturen\n",
    "<br> Series (Serien): 1D Array ähnliche Objekte, die verschiedene Datentypen aufnehmen kann (int, float, strings etc.)\n",
    "<br> Datenstrukturen in Pandas: `pd.Series` (Serien), `pd.DataFrame`\n"
   ]
  },
  {
   "cell_type": "code",
   "execution_count": null,
   "metadata": {},
   "outputs": [],
   "source": [
    "import pandas as pd"
   ]
  },
  {
   "cell_type": "markdown",
   "metadata": {},
   "source": [
    "\n",
    "## Die Serie - `pd.Series`\n",
    "\n",
    "<br> Eine Serie beinhaltet im Grunde zwei eindimensionale Arrays: 1. Index, 2. Daten"
   ]
  },
  {
   "cell_type": "code",
   "execution_count": null,
   "metadata": {},
   "outputs": [],
   "source": [
    "\n"
   ]
  },
  {
   "cell_type": "code",
   "execution_count": null,
   "metadata": {},
   "outputs": [],
   "source": [
    "\n"
   ]
  },
  {
   "cell_type": "markdown",
   "metadata": {},
   "source": [
    "Momentan ist der Index (erste Spalte) immer nur inkrementierende numerische Zahlen 0,1,2 etc.\n",
    "<br>Es besteht aber die Möglichkeit, diesen index passend zu benennen.\n",
    "<br>Der Index ist unter `series.index` aufrufbar."
   ]
  },
  {
   "cell_type": "code",
   "execution_count": null,
   "metadata": {},
   "outputs": [],
   "source": []
  },
  {
   "cell_type": "code",
   "execution_count": null,
   "metadata": {},
   "outputs": [],
   "source": []
  },
  {
   "cell_type": "markdown",
   "metadata": {},
   "source": [
    "Zusätzlich besteht auch die Möglich der Serie eine Überschrift (name) zu geben"
   ]
  },
  {
   "cell_type": "code",
   "execution_count": null,
   "metadata": {},
   "outputs": [],
   "source": []
  },
  {
   "cell_type": "code",
   "execution_count": null,
   "metadata": {},
   "outputs": [],
   "source": [
    "\n"
   ]
  },
  {
   "cell_type": "markdown",
   "metadata": {},
   "source": [
    "Den Index und die Werte einzeln zu benennen ist umständlich. Es besteht jedoch die Möglichkeit mit einem Standard Datentyp in Python, der schon Schlüssel und Wert Paare enthält das ganze ebenfalls umzusetzen: Dictionary"
   ]
  },
  {
   "cell_type": "code",
   "execution_count": null,
   "metadata": {},
   "outputs": [],
   "source": []
  },
  {
   "cell_type": "code",
   "execution_count": null,
   "metadata": {},
   "outputs": [],
   "source": []
  },
  {
   "cell_type": "markdown",
   "metadata": {},
   "source": [
    "Oder: Alle Informationen direkt bei Erstellung über Listen übergeben"
   ]
  },
  {
   "cell_type": "code",
   "execution_count": null,
   "metadata": {},
   "outputs": [],
   "source": []
  },
  {
   "cell_type": "code",
   "execution_count": null,
   "metadata": {},
   "outputs": [],
   "source": []
  },
  {
   "cell_type": "code",
   "execution_count": null,
   "metadata": {},
   "outputs": [],
   "source": [
    "\n"
   ]
  },
  {
   "cell_type": "markdown",
   "metadata": {},
   "source": [
    "### Rechnen mit Serien\n",
    "\n",
    "1. Broadcasting - Wie bei numpy Arrays, wird bei einer Rechenoperation die Rechnung Elementweise angewandt.\n"
   ]
  },
  {
   "cell_type": "code",
   "execution_count": null,
   "metadata": {},
   "outputs": [],
   "source": []
  },
  {
   "cell_type": "code",
   "execution_count": null,
   "metadata": {},
   "outputs": [],
   "source": [
    "\n"
   ]
  },
  {
   "cell_type": "markdown",
   "metadata": {},
   "source": [
    "2. Zwei Serien miteinander verrechnen"
   ]
  },
  {
   "cell_type": "code",
   "execution_count": null,
   "metadata": {},
   "outputs": [],
   "source": []
  },
  {
   "cell_type": "markdown",
   "metadata": {},
   "source": [
    "3. Zwei Serien mit unterschiedlichen Indizes verrechnen"
   ]
  },
  {
   "cell_type": "code",
   "execution_count": null,
   "metadata": {},
   "outputs": [],
   "source": []
  },
  {
   "cell_type": "code",
   "execution_count": null,
   "metadata": {},
   "outputs": [],
   "source": []
  },
  {
   "cell_type": "markdown",
   "metadata": {},
   "source": [
    "--> Es werden nur die Werte verrechnet, die den gleichen Index haben."
   ]
  },
  {
   "cell_type": "code",
   "execution_count": null,
   "metadata": {},
   "outputs": [],
   "source": [
    "\n"
   ]
  },
  {
   "cell_type": "markdown",
   "metadata": {},
   "source": [
    "## Übungsaufgabe zu Erstellen und Zugreifen auf Series\n",
    "\n",
    "Schreibe eine Funktion, die aus folgender Liste das Wort `\"DataCraft\"` als Series zusammensetzt und schließlich zurück in eine Liste umwandelt.\n",
    "\n",
    "`liste1 = [\"a\",\"C\",\"D\",\"f\",\"r\",\"t\",\"z\"]`\n",
    "\n",
    "Tipp 1: Man sollte die Liste zuerst in eine Series umwandeln.\n",
    "\n",
    "Tipp 2: Die neue Series sollte man erneut in eine neue Series umschreiben und dabei die Indices in der richtigen Reihenfolge bennenen."
   ]
  },
  {
   "cell_type": "code",
   "execution_count": null,
   "metadata": {},
   "outputs": [],
   "source": []
  },
  {
   "cell_type": "markdown",
   "metadata": {},
   "source": [
    "## DataFrames bei pandas\n",
    "Ein pandas DataFrame ist im Grunde eine zwei dimensionale Datenstruktur, ähnlich zu einem 2D array die in Form von Spalten und Zeilen aufgebaut ist. Ein DataFrame hat ebenfalls benannte Indizes und Spaltennamen."
   ]
  },
  {
   "cell_type": "code",
   "execution_count": null,
   "metadata": {},
   "outputs": [],
   "source": []
  },
  {
   "cell_type": "code",
   "execution_count": null,
   "metadata": {},
   "outputs": [],
   "source": [
    "\n"
   ]
  },
  {
   "cell_type": "code",
   "execution_count": null,
   "metadata": {},
   "outputs": [],
   "source": [
    "\n"
   ]
  },
  {
   "cell_type": "code",
   "execution_count": null,
   "metadata": {},
   "outputs": [],
   "source": [
    "\n"
   ]
  },
  {
   "cell_type": "code",
   "execution_count": null,
   "metadata": {},
   "outputs": [],
   "source": [
    "\n"
   ]
  },
  {
   "cell_type": "markdown",
   "metadata": {},
   "source": [
    "#### Wie kann man mehrere pandas Serien zu einem DataFrame zusammenführen?"
   ]
  },
  {
   "cell_type": "code",
   "execution_count": null,
   "metadata": {},
   "outputs": [],
   "source": [
    "\n"
   ]
  },
  {
   "cell_type": "code",
   "execution_count": null,
   "metadata": {},
   "outputs": [],
   "source": [
    "\n"
   ]
  },
  {
   "cell_type": "markdown",
   "metadata": {},
   "source": [
    "### DataFrame beschreiben"
   ]
  },
  {
   "cell_type": "code",
   "execution_count": null,
   "metadata": {},
   "outputs": [],
   "source": [
    "\n"
   ]
  },
  {
   "cell_type": "code",
   "execution_count": null,
   "metadata": {},
   "outputs": [],
   "source": [
    "\n"
   ]
  },
  {
   "cell_type": "code",
   "execution_count": null,
   "metadata": {},
   "outputs": [],
   "source": [
    "\n"
   ]
  },
  {
   "cell_type": "markdown",
   "metadata": {},
   "source": [
    "## Übungsaufgabe DataFrame mit Pandas\n",
    "\n",
    "Du interessierst dich dafür, wie viel Zeit  bei deinen Lieblingssportarten eigentlich wirklich gespielt wird und wie groß die Differenz zur wirklich gespielten Zeit ist.\n",
    "\n",
    "Du bist Fan von den Sportarten Fussball, Basketball, Handball, Eishockey und (American) Football.\n",
    "\n",
    "Die offiziellen Spielzeiten für diese Sportarten sind (in Minuten) 90, 48, 60, 60 und 60. Erstelle daraus eine Series mit passendem Index.\n",
    "\n",
    "Die Nettospielzeiten der Sportarten belaufen sich auf folgende Zeiten (in Minuten) 57, 43, 48, 60 und 11. Erstelle auch daraus eine Series mit passendem Index.\n",
    "\n",
    "Berechne die absolute und prozentuale Abweichung von Nettospielzeit zu normaler Spielzeit und erstelle für beides eine Series.\n",
    "\n",
    "Verbinde ALLE 4 Series zu einem gemeinsamen DataFrame (welcher ordentlich alle Spalten benannt hat) und beantworte schließlich die Frage: Wie viel Minuten werden im Schnitt bei deinen Lieblingssportarten verschenkt?\n",
    "\n",
    "\n",
    "Erwartete Ausgabe:\n",
    "\"Durch. Abweichung in Minuten = XX.X\"\n",
    "\n",
    "Abbild des DataFrames"
   ]
  },
  {
   "cell_type": "code",
   "execution_count": null,
   "metadata": {},
   "outputs": [],
   "source": [
    "\n"
   ]
  }
 ],
 "metadata": {
  "kernelspec": {
   "display_name": "Python 3",
   "language": "python",
   "name": "python3"
  },
  "language_info": {
   "codemirror_mode": {
    "name": "ipython",
    "version": 3
   },
   "file_extension": ".py",
   "mimetype": "text/x-python",
   "name": "python",
   "nbconvert_exporter": "python",
   "pygments_lexer": "ipython3",
   "version": "3.12.7"
  }
 },
 "nbformat": 4,
 "nbformat_minor": 2
}
