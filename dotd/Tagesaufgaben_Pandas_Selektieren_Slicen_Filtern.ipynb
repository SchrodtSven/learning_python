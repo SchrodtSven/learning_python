{
 "cells": [
  {
   "cell_type": "markdown",
   "id": "78e2f52e",
   "metadata": {
    "id": "78e2f52e"
   },
   "source": [
    "<br><br><center><h1 style=\"font-size:2em;color:#2467C0\">Tagesaufgaben: Pandas DataFrames\n",
    "<br>Selektieren, Slicen, Filtern</h1></center>"
   ]
  },
  {
   "cell_type": "code",
   "execution_count": null,
   "id": "2cda8794",
   "metadata": {},
   "outputs": [],
   "source": [
    "# Deine Imports:\n"
   ]
  },
  {
   "cell_type": "markdown",
   "id": "4c9af9e4",
   "metadata": {},
   "source": [
    "#### Taxis-Daten analysieren"
   ]
  },
  {
   "cell_type": "code",
   "execution_count": null,
   "id": "c0d64b65",
   "metadata": {},
   "outputs": [],
   "source": [
    "# Datensatz taxis laden:\n",
    "taxis = sns.load_dataset('taxis')"
   ]
  },
  {
   "cell_type": "markdown",
   "id": "4986fd28b74ba008",
   "metadata": {
    "collapsed": false
   },
   "source": [
    "1. Verschaffe dir einen Überblick über die ersten fünf Einträge, \n",
    "um ein Gefühl für den Datensatz zu bekommen.\n",
    "<br>Lasse dir außerdem die Gestalt des DataFrames sowie eine Statistik aller numerischen Spalten.\n"
   ]
  },
  {
   "cell_type": "code",
   "execution_count": null,
   "id": "e25fda20",
   "metadata": {},
   "outputs": [],
   "source": []
  },
  {
   "cell_type": "code",
   "execution_count": null,
   "id": "9d256a63",
   "metadata": {},
   "outputs": [],
   "source": []
  },
  {
   "cell_type": "code",
   "execution_count": null,
   "id": "506adbe8",
   "metadata": {},
   "outputs": [],
   "source": []
  },
  {
   "cell_type": "markdown",
   "id": "c26142f5",
   "metadata": {},
   "source": [
    "2. Lass dir eine Liste aller Spaltennamen ausgeben. <br>\n",
    "Selektiere außerdem fare, tip, distance, payment."
   ]
  },
  {
   "cell_type": "code",
   "execution_count": null,
   "id": "fef62b91",
   "metadata": {},
   "outputs": [],
   "source": []
  },
  {
   "cell_type": "code",
   "execution_count": null,
   "id": "cdfdc21b",
   "metadata": {},
   "outputs": [],
   "source": []
  },
  {
   "cell_type": "markdown",
   "id": "4d0b5c66",
   "metadata": {},
   "source": [
    "3. Welche Taxifarben und welche Bezahlmethoden gibt es (die Labels)?"
   ]
  },
  {
   "cell_type": "code",
   "execution_count": null,
   "id": "877f65ce",
   "metadata": {},
   "outputs": [],
   "source": []
  },
  {
   "cell_type": "markdown",
   "id": "fb532fb4",
   "metadata": {},
   "source": [
    "4. Wie viele Taxis der verschiedenen Farben haben wir (Stückzahlen)?"
   ]
  },
  {
   "cell_type": "code",
   "execution_count": null,
   "id": "0f4d7d90",
   "metadata": {},
   "outputs": [],
   "source": []
  },
  {
   "cell_type": "markdown",
   "id": "78967ebf",
   "metadata": {},
   "source": [
    "5. Welchen Anteil nehmen die verschiedenen Bezahlmethoden an allen Zahlungen ein?"
   ]
  },
  {
   "cell_type": "code",
   "execution_count": null,
   "id": "bfc49b38",
   "metadata": {},
   "outputs": [],
   "source": []
  },
  {
   "cell_type": "markdown",
   "id": "05494312",
   "metadata": {},
   "source": [
    "6. Entferne für die weitere Arbeit pickup_zone und dropoff_zone aus dem DataFrame.<br>\n",
    "Füge außerdem eine Spalte distance_km hinzu, in der die Fahrtstrecke in Kilometern zu finden ist (distance ist in Meilen!).<br>\n",
    "Überprüfe, ob das wirklich geklappt hat!"
   ]
  },
  {
   "cell_type": "code",
   "execution_count": null,
   "id": "5291ca42",
   "metadata": {},
   "outputs": [],
   "source": []
  },
  {
   "cell_type": "code",
   "execution_count": null,
   "id": "f001202c",
   "metadata": {},
   "outputs": [],
   "source": []
  },
  {
   "cell_type": "code",
   "execution_count": null,
   "id": "e40d26e6",
   "metadata": {},
   "outputs": [],
   "source": []
  },
  {
   "cell_type": "markdown",
   "id": "c258c206",
   "metadata": {},
   "source": [
    "7. Wie würdest du am effektivsten den Ausschnitt der Daten auswählen, \n",
    "der Gleitkommazahlen enthält?"
   ]
  },
  {
   "cell_type": "code",
   "execution_count": null,
   "id": "8df172d6",
   "metadata": {},
   "outputs": [],
   "source": []
  },
  {
   "cell_type": "markdown",
   "id": "faf1fbe6",
   "metadata": {},
   "source": [
    "8. Was ist das höchste Trinkgeld, das einer unserer Taxifahrer bekommen hat?"
   ]
  },
  {
   "cell_type": "code",
   "execution_count": null,
   "id": "7e3413ab",
   "metadata": {},
   "outputs": [],
   "source": []
  },
  {
   "cell_type": "markdown",
   "id": "9a097082",
   "metadata": {},
   "source": [
    "9. Lass dir die gesamte Zeile für dieses Trinkgeld anzeigen."
   ]
  },
  {
   "cell_type": "code",
   "execution_count": null,
   "id": "f7e32232",
   "metadata": {},
   "outputs": [],
   "source": []
  },
  {
   "cell_type": "markdown",
   "id": "0750eeab",
   "metadata": {},
   "source": [
    "10. Hole dir alle Einträge mit einem Trinkgeld von mindestens 10 Dollar und lege das Ergebnis auf die Variabel 'big_tips'.<br>\n",
    "Wie viele solcher hoher Trinkgeldbeträge gibt es?"
   ]
  },
  {
   "cell_type": "code",
   "execution_count": null,
   "id": "c89a7ae2",
   "metadata": {},
   "outputs": [],
   "source": []
  },
  {
   "cell_type": "code",
   "execution_count": null,
   "id": "312aea5c",
   "metadata": {},
   "outputs": [],
   "source": []
  },
  {
   "cell_type": "markdown",
   "id": "2b3af772",
   "metadata": {},
   "source": [
    "11. Lass dir alle Einträge aus 'big_tips' ausgeben, bei denen die Fahrtkosten unter 50 Dollar lagen und bei denen die Fahrt, in Manhattan gestartet ist."
   ]
  },
  {
   "cell_type": "code",
   "execution_count": null,
   "id": "32fea8ed",
   "metadata": {},
   "outputs": [],
   "source": []
  },
  {
   "cell_type": "code",
   "execution_count": null,
   "id": "4771afd6",
   "metadata": {},
   "outputs": [],
   "source": []
  },
  {
   "cell_type": "markdown",
   "id": "b6ba5755",
   "metadata": {},
   "source": [
    "12. Was ist die mittlere Fahrtstrecke im Datensatz? (Achtung, nicht mehr 'big_tips'!)"
   ]
  },
  {
   "cell_type": "code",
   "execution_count": null,
   "id": "afea7624",
   "metadata": {},
   "outputs": [],
   "source": []
  },
  {
   "cell_type": "markdown",
   "id": "9b746380",
   "metadata": {},
   "source": [
    "13. Was ist die mittlere Fahrtstrecke für Manhattan (Start)?<br>\n",
    "Unterscheidet sich diese, wenn Manhattan Ziel ist?"
   ]
  },
  {
   "cell_type": "code",
   "execution_count": null,
   "id": "78ba2c64",
   "metadata": {},
   "outputs": [],
   "source": []
  },
  {
   "cell_type": "code",
   "execution_count": null,
   "id": "c62ec762",
   "metadata": {},
   "outputs": [],
   "source": []
  },
  {
   "cell_type": "code",
   "execution_count": null,
   "id": "c9041c41",
   "metadata": {},
   "outputs": [],
   "source": []
  },
  {
   "cell_type": "markdown",
   "id": "efaaea09",
   "metadata": {},
   "source": [
    "14. Lass es noch einmal krachen und slice einen Teil des DataFrames heraus, für den folgende Dinge gelten:\n",
    "* Die Taxis sind ausschließlich gelb\n",
    "* Es wurde ein Gesamtbetrag unter 10 Dollar gezahlt\n",
    "* Die Fahrtstrecke bewegt sich zwischen einer und drei Meilen\n",
    "* Die Fahrt startete in Brooklyn oder der Bronx, <br>wobei du für Letzteres die bereitgestellte Liste boroughs_of_interest nutzen sollst<br>\n",
    "<hr>\n",
    "\n",
    "Tipp: Formatiere das Ganze gut lesbar und lege Bedingungen fürs Slicing auf sprechende Variablen, damit der Code lesbarer wird."
   ]
  },
  {
   "cell_type": "code",
   "execution_count": null,
   "id": "7cc4e4ca",
   "metadata": {},
   "outputs": [],
   "source": [
    "boroughs_of_interest = ['Brooklyn', 'Bronx']"
   ]
  },
  {
   "cell_type": "code",
   "execution_count": null,
   "id": "491b3e6e",
   "metadata": {},
   "outputs": [],
   "source": []
  }
 ],
 "metadata": {
  "colab": {
   "provenance": []
  },
  "kernelspec": {
   "display_name": "Python 3",
   "language": "python",
   "name": "python3"
  },
  "language_info": {
   "codemirror_mode": {
    "name": "ipython",
    "version": 3
   },
   "file_extension": ".py",
   "mimetype": "text/x-python",
   "name": "python",
   "nbconvert_exporter": "python",
   "pygments_lexer": "ipython3",
   "version": "3.10.12"
  }
 },
 "nbformat": 4,
 "nbformat_minor": 5
}
