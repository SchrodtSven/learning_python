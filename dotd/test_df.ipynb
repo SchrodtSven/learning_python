{
 "cells": [
  {
   "cell_type": "code",
   "execution_count": 17,
   "id": "bd8ce531",
   "metadata": {},
   "outputs": [
    {
     "name": "stdout",
     "output_type": "stream",
     "text": [
      "    name  age\n",
      "0    Gil   72\n",
      "1   Lana   45\n",
      "2   Noel   70\n",
      "3  Cliff   83\n",
      "0  Sahra   33\n"
     ]
    }
   ],
   "source": [
    "import pandas as pd\n",
    "import numpy as np\n",
    "\n",
    "my_dict = {\n",
    "            'name': ['Gil', 'Lana', 'Noel', 'Cliff'],\n",
    "            'age': [72, 45, 70, 83]\n",
    "    \n",
    "}\n",
    "df = pd.DataFrame(my_dict)\n",
    "#print(df)\n",
    "#df.info()\n",
    "#df.describe()\n",
    "\n",
    "\n",
    "ndf = pd.concat([df,pd.DataFrame({'name': ['Sahra'], 'age': [33]})])\n",
    "print(ndf)\n"
   ]
  },
  {
   "cell_type": "markdown",
   "id": "f1e79258",
   "metadata": {},
   "source": [
    "## Panel data --> pandas\n"
   ]
  }
 ],
 "metadata": {
  "kernelspec": {
   "display_name": "Python 3",
   "language": "python",
   "name": "python3"
  },
  "language_info": {
   "codemirror_mode": {
    "name": "ipython",
    "version": 3
   },
   "file_extension": ".py",
   "mimetype": "text/x-python",
   "name": "python",
   "nbconvert_exporter": "python",
   "pygments_lexer": "ipython3",
   "version": "3.13.2"
  }
 },
 "nbformat": 4,
 "nbformat_minor": 5
}
