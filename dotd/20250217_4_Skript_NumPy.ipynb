{
 "cells": [
  {
   "cell_type": "markdown",
   "metadata": {},
   "source": [
    "# NumPy und Arrays – Grundlagen, Vergleich zu Python-Listen und Matrizen\n",
    "\n",
    "In Python sind **Listen** zunächst das zentrale Datenkonstrukt, wenn du eine sequenzielle Sammlung von Elementen speichern möchtest. Listen sind:  \n",
    "* Dynamisch in ihrer Größe  \n",
    "* Können beliebige und gemischte Datentypen beinhalten (z.B. Integers, Strings usw.)  \n",
    "* Haben relativ viel Overhead, da jeder Listeneintrag im Speicher als eigenes Python-Objekt verwaltet wird\n",
    "\n",
    "Mit **NumPy**-Arrays – in der Implementierung `numpy.ndarray` – bekommst du ein:\n",
    "* Speicher-effizienteres Konstrukt für homogene Datentypen (also am besten nur Zahlen oder Strings, jedoch nicht gemischt)\n",
    "* Performantes, mehrdimensionales Datenlayout (1D, 2D = Matrizen, 3D und mehr)\n",
    "* Schnelle, vektorisierte Rechenoperationen über alle Elemente\n",
    "\n",
    "## Vergleich: Arrays und Matrizen\n",
    "\n",
    "Mathematisch kannst du dir ein 2D-Array als **Matrix** vorstellen. NumPy erweitert das Konzept, sodass:\n",
    "* Du **beliebig viele Dimensionen** (\"Datenwürfel\") nutzen kannst.\n",
    "* Jedes Element direkt im Speicher aufeinanderfolgend (oder mit definiertem Stride) abgelegt wird.\n",
    "\n",
    "## Warum ist das wichtig?\n",
    "1. **Effiziente Speicherung**: NumPy-Arrays benötigen im Vergleich zu einer verschachtelten Python-Liste typischerweise deutlich weniger Speicher.\n",
    "2. **Geschwindigkeit**: Vektorisierte Operationen sind in C (bzw. C++) implementiert und laufen in Schleifen hochoptimiert ab, sodass rechenintensive Aufgaben (z.B. wissenschaftliche Datenanalyse) sehr viel schneller werden.\n",
    "3. **Leichtere mathematische Notation**: Viele mathematische Funktionen erwarten Eingaben als mehrdimensionale Arrays (z.B. Tensoren in Machine Learning).\n",
    "\n",
    "## Weitere Python-Strukturen\n",
    "* **Tuples**: Unveränderliche (\"immutable\") Sequenzen, werden aber selten für große Datenmengen genutzt.\n",
    "* **Sets**: Mengenstrukturen ohne Duplikate, ungeordnet. Für Array- bzw. Matrixoperationen ungeeignet.\n",
    "* **Dictionaries**: Schlüssel-Wert-Paare für assoziatives Speichern. Ebenfalls kein Ersatz für Arrays.\n",
    "\n",
    "## Warum braucht eine 1000×1000 Matrix in C (oft) so viel Speicher?\n",
    "Angenommen, du definierst in C ein 2D-Array (Matrix) der Größe 1000×1000 mit Typ `double`. Ein `double` ist üblicherweise 8 Byte groß. Damit hast du insgesamt 1.000.000 Einträge (1 Million) × 8 Byte = 8 MB reinen Datenplatz. In höheren Sprachen wie Python oder bei komplexeren Strukturen kann zusätzlicher Overhead hinzukommen – jede Zahl kann ggf. ein eigenes Objekt sein, was mehr als 8 Byte pro Eintrag kosten kann.\n",
    "\n",
    "---\n",
    "# NumPy und Arrays – Der `np.array`-Datentyp\n",
    "\n",
    "Standard-Python-Listen (z.B. `[1, 2, 3]`) sind eindimensional. Du kannst sie natürlich verschachteln, aber ab einer gewissen Tiefe wird das kompliziert und speicherintensiv. **NumPy** hingegen bietet multidimensionale Arrays an, womit sich auch Matrizen (2D-Arrays) oder 3D- und mehrdimensionale Datenwürfel komfortabel darstellen lassen.\n",
    "\n",
    "## Erstellung von Arrays\n"
   ]
  },
  {
   "cell_type": "code",
   "execution_count": 1,
   "metadata": {},
   "outputs": [],
   "source": [
    "# Der Begriff Array stammt ursprünglich aus dem Englischen und geht auf das mittelenglische Wort „arrayen“ zurück, was so viel wie „(an)ordnen“ oder „aufstellen“ bedeutet. In der Informatik bezeichnet\n",
    "# „array“ eine Datenstruktur, mit der man mehrere Elemente (z.B. Zahlen oder Objekte)\n",
    "# in einer festen Reihenfolge speichern und leicht darauf zugreifen kann."
   ]
  },
  {
   "cell_type": "markdown",
   "metadata": {},
   "source": [
    "Anschauliche Anwendungsbeispiele von Matrizen im Alltag\n",
    "Bildbearbeitung und Computergrafik\n",
    "Die Pixel eines Bildes können als Matrix aufgefasst werden, wobei jede Zeile einer Bildzeile und jede Spalte einer Bildspalte entspricht. Bestimmte Filter (z.B. Weichzeichnen oder Kanten erkennen) lassen sich über Matrixoperationen (Faltung) realisieren.\n",
    "\n",
    "Tabellen, Sitzpläne, Stundenpläne\n",
    "Jede Tabelle in einem Schulheft oder Excel ist im Prinzip eine Matrix: Zeilen und Spalten strukturieren Daten. Ebenso kann man einen Sitzplan in einer Klasse oder einen Stundenplan als Matrix lesen.\n",
    "\n",
    "Navigations- und Routenplanung\n",
    "Entfernungen zwischen Städten können in einer Matrix abgebildet werden (Zeilen = Startorte, Spalten = Zielorte). So lassen sich schnell Distanzen oder Fahrzeiten nachschlagen.\n",
    "\n",
    "Verschlüsselung\n",
    "Einige Verschlüsselungsverfahren (z.B. Hill-Chiffre) basieren auf Matrizenmultiplikation. Dabei werden Buchstaben durch Zahlen repräsentiert, anschließend mit einer Schlüsselmatrix verrechnet und so verschlüsselt.\n",
    "\n",
    "Statistik und Datenanalyse\n",
    "Daten in Umfragen oder Messreihen werden oft als große Tabellen (Matrizen) verarbeitet. Rechnerische Methoden (z.B. Korrelationsmatrizen) helfen, Zusammenhänge schnell zu erkennen."
   ]
  },
  {
   "cell_type": "code",
   "execution_count": 2,
   "metadata": {
    "ExecuteTime": {
     "end_time": "2024-01-23T15:32:47.057598400Z",
     "start_time": "2024-01-23T15:32:47.051916300Z"
    }
   },
   "outputs": [],
   "source": [
    "import numpy as np"
   ]
  },
  {
   "cell_type": "code",
   "execution_count": 3,
   "metadata": {
    "ExecuteTime": {
     "end_time": "2024-01-23T15:38:36.629228100Z",
     "start_time": "2024-01-23T15:38:36.608189600Z"
    }
   },
   "outputs": [],
   "source": [
    "# Unterschiede zwischen Python-Liste und Numpy-Array\n",
    "\n",
    "# Eindimensionale Liste (Datenreihe)\n",
    "liste = [1, 2, 3, 4, 5, 6, 7, 8, 9, 10]\n",
    "\n",
    "# Eindimensionales Array\n",
    "array1 = np.array(liste)"
   ]
  },
  {
   "cell_type": "code",
   "execution_count": 4,
   "metadata": {
    "ExecuteTime": {
     "end_time": "2024-01-23T09:50:56.068375500Z",
     "start_time": "2024-01-23T09:50:56.045416600Z"
    }
   },
   "outputs": [
    {
     "data": {
      "text/plain": [
       "list"
      ]
     },
     "execution_count": 4,
     "metadata": {},
     "output_type": "execute_result"
    }
   ],
   "source": [
    "type(liste)"
   ]
  },
  {
   "cell_type": "code",
   "execution_count": 5,
   "metadata": {
    "ExecuteTime": {
     "end_time": "2024-01-23T15:38:38.274516700Z",
     "start_time": "2024-01-23T15:38:38.254783600Z"
    }
   },
   "outputs": [
    {
     "data": {
      "text/plain": [
       "numpy.ndarray"
      ]
     },
     "execution_count": 5,
     "metadata": {},
     "output_type": "execute_result"
    }
   ],
   "source": [
    "# ndarray steht für n-dimensionales Array\n",
    "type(array1)"
   ]
  },
  {
   "cell_type": "code",
   "execution_count": 6,
   "metadata": {
    "ExecuteTime": {
     "end_time": "2024-01-23T15:38:38.935025400Z",
     "start_time": "2024-01-23T15:38:38.898240600Z"
    }
   },
   "outputs": [
    {
     "name": "stdout",
     "output_type": "stream",
     "text": [
      "[1, 2, 3, 4, 5, 6, 7, 8, 9, 10]\n",
      "[ 1  2  3  4  5  6  7  8  9 10]\n"
     ]
    }
   ],
   "source": [
    "print(liste)\n",
    "print(array1)"
   ]
  },
  {
   "cell_type": "code",
   "execution_count": 7,
   "metadata": {
    "ExecuteTime": {
     "end_time": "2024-01-23T15:38:47.819731300Z",
     "start_time": "2024-01-23T15:38:47.799693Z"
    }
   },
   "outputs": [],
   "source": [
    "# Verschachtelte (mehrdimensionale) Liste\n",
    "liste2 = [[1, 2, 3, 4], [5, 6, 7, 8], [9, 10, 11, 12]]\n",
    "\n",
    "# Mehrdimensionales Array (2D)\n",
    "array2 = np.array(liste2)"
   ]
  },
  {
   "cell_type": "code",
   "execution_count": 8,
   "metadata": {
    "ExecuteTime": {
     "end_time": "2024-01-23T15:38:48.860350Z",
     "start_time": "2024-01-23T15:38:48.840098900Z"
    }
   },
   "outputs": [
    {
     "data": {
      "text/plain": [
       "[[1, 2, 3, 4], [5, 6, 7, 8], [9, 10, 11, 12]]"
      ]
     },
     "execution_count": 8,
     "metadata": {},
     "output_type": "execute_result"
    }
   ],
   "source": [
    "# Gewohntes Aussehen von verschachtelten Listen\n",
    "liste2"
   ]
  },
  {
   "cell_type": "code",
   "execution_count": 9,
   "metadata": {
    "ExecuteTime": {
     "end_time": "2024-01-23T15:41:30.301075300Z",
     "start_time": "2024-01-23T15:41:30.265374400Z"
    }
   },
   "outputs": [
    {
     "name": "stdout",
     "output_type": "stream",
     "text": [
      "[[ 1  2  3  4]\n",
      " [ 5  6  7  8]\n",
      " [ 9 10 11 12]]\n"
     ]
    }
   ],
   "source": [
    "# Matrix-Darstellung von 2D-Arrays\n",
    "print(array2)"
   ]
  },
  {
   "cell_type": "code",
   "execution_count": 10,
   "metadata": {
    "ExecuteTime": {
     "end_time": "2024-01-23T15:41:37.983333800Z",
     "start_time": "2024-01-23T15:41:37.960500500Z"
    },
    "collapsed": false
   },
   "outputs": [
    {
     "data": {
      "text/plain": [
       "array([[ 1,  2,  3,  4],\n",
       "       [ 5,  6,  7,  8],\n",
       "       [ 9, 10, 11, 12]])"
      ]
     },
     "execution_count": 10,
     "metadata": {},
     "output_type": "execute_result"
    }
   ],
   "source": [
    "# Schöne Darstellung in Jupyter-Notebooks\n",
    "array2"
   ]
  },
  {
   "cell_type": "markdown",
   "metadata": {},
   "source": [
    "Das Array hat 3 Zeilen und 4 Spalten = 2 Dimensionen, also ein Shape von `(3, 4)`."
   ]
  },
  {
   "cell_type": "code",
   "execution_count": 11,
   "metadata": {},
   "outputs": [
    {
     "data": {
      "text/plain": [
       "[1, 2, 3, 4]"
      ]
     },
     "execution_count": 11,
     "metadata": {},
     "output_type": "execute_result"
    }
   ],
   "source": [
    "# Indizierung bei Listen\n",
    "liste2[0]"
   ]
  },
  {
   "cell_type": "code",
   "execution_count": 12,
   "metadata": {},
   "outputs": [
    {
     "name": "stdout",
     "output_type": "stream",
     "text": [
      "1\n",
      "5\n",
      "9\n"
     ]
    }
   ],
   "source": [
    "# Was, wenn ich das erste Element aus jeder inneren Liste haben will?\n",
    "for i in liste2:\n",
    "    print(i[0])"
   ]
  },
  {
   "cell_type": "code",
   "execution_count": 13,
   "metadata": {
    "ExecuteTime": {
     "end_time": "2024-01-23T15:42:05.687402600Z",
     "start_time": "2024-01-23T15:42:05.675108700Z"
    }
   },
   "outputs": [
    {
     "data": {
      "text/plain": [
       "array([1, 5, 9])"
      ]
     },
     "execution_count": 13,
     "metadata": {},
     "output_type": "execute_result"
    }
   ],
   "source": [
    "# Mit Numpy geht das einfacher\n",
    "# Bei Numpy-Indizierung in eckigen Klammern: Indizes per Komma getrennt\n",
    "array2[:, 0]"
   ]
  },
  {
   "cell_type": "code",
   "execution_count": 14,
   "metadata": {
    "ExecuteTime": {
     "end_time": "2024-01-23T15:42:40.693843Z",
     "start_time": "2024-01-23T15:42:40.655835100Z"
    },
    "collapsed": false
   },
   "outputs": [],
   "source": [
    "# In Numpy lassen sich nicht nur numerische Daten organisieren!\n",
    "word_list = ['hallo', 'welt', 'hallo', 'pandas']"
   ]
  },
  {
   "cell_type": "code",
   "execution_count": 15,
   "metadata": {
    "ExecuteTime": {
     "end_time": "2024-01-23T15:42:41.908701400Z",
     "start_time": "2024-01-23T15:42:41.892832100Z"
    },
    "collapsed": false
   },
   "outputs": [
    {
     "data": {
      "text/plain": [
       "array(['hallo', 'welt', 'hallo', 'pandas'], dtype='<U6')"
      ]
     },
     "execution_count": 15,
     "metadata": {},
     "output_type": "execute_result"
    }
   ],
   "source": [
    "np.array(word_list)"
   ]
  },
  {
   "cell_type": "code",
   "execution_count": null,
   "metadata": {
    "ExecuteTime": {
     "end_time": "2024-01-23T15:42:41.908701400Z",
     "start_time": "2024-01-23T15:42:41.892832100Z"
    },
    "collapsed": false
   },
   "outputs": [],
   "source": []
  },
  {
   "cell_type": "code",
   "execution_count": null,
   "metadata": {
    "ExecuteTime": {
     "end_time": "2024-01-23T15:42:01.997708400Z",
     "start_time": "2024-01-23T15:42:01.941702500Z"
    }
   },
   "outputs": [],
   "source": []
  },
  {
   "cell_type": "code",
   "execution_count": null,
   "metadata": {
    "ExecuteTime": {
     "end_time": "2024-01-23T15:42:02.142489700Z",
     "start_time": "2024-01-23T15:42:02.123359300Z"
    },
    "collapsed": false
   },
   "outputs": [],
   "source": []
  },
  {
   "cell_type": "code",
   "execution_count": null,
   "metadata": {
    "ExecuteTime": {
     "end_time": "2024-01-23T15:42:41.908701400Z",
     "start_time": "2024-01-23T15:42:41.892832100Z"
    }
   },
   "outputs": [],
   "source": []
  },
  {
   "cell_type": "code",
   "execution_count": null,
   "metadata": {
    "ExecuteTime": {
     "end_time": "2024-01-23T15:42:01.997708400Z",
     "start_time": "2024-01-23T15:42:01.941702500Z"
    }
   },
   "outputs": [],
   "source": []
  },
  {
   "cell_type": "code",
   "execution_count": null,
   "metadata": {
    "ExecuteTime": {
     "end_time": "2024-01-23T15:42:02.142489700Z",
     "start_time": "2024-01-23T15:42:02.123359300Z"
    }
   },
   "outputs": [],
   "source": []
  },
  {
   "cell_type": "code",
   "execution_count": 16,
   "metadata": {
    "ExecuteTime": {
     "end_time": "2024-01-23T15:43:01.997708400Z",
     "start_time": "2024-01-23T15:43:01.941702500Z"
    },
    "collapsed": false
   },
   "outputs": [],
   "source": [
    "# Und was passiert mit Listen mit gemischten Datentypen?\n",
    "mixed_list = ['hallo', 'pandas', 2024]"
   ]
  },
  {
   "cell_type": "code",
   "execution_count": 17,
   "metadata": {
    "ExecuteTime": {
     "end_time": "2024-01-23T09:57:20.555697900Z",
     "start_time": "2024-01-23T09:57:20.543652900Z"
    },
    "collapsed": false
   },
   "outputs": [
    {
     "data": {
      "text/plain": [
       "array(['hallo', 'pandas', '2024'], dtype='<U21')"
      ]
     },
     "execution_count": 17,
     "metadata": {},
     "output_type": "execute_result"
    }
   ],
   "source": [
    "# Ein Numpy-Array kann keine gemischten Datentypen enthalten!\n",
    "# Hier wird der int automatisch zu einem String konvertiert.\n",
    "mixed_arr = np.array(mixed_list)\n",
    "mixed_arr"
   ]
  },
  {
   "cell_type": "code",
   "execution_count": null,
   "metadata": {
    "ExecuteTime": {
     "end_time": "2024-01-23T09:57:20.555697900Z",
     "start_time": "2024-01-23T09:57:20.543652900Z"
    },
    "collapsed": false
   },
   "outputs": [],
   "source": []
  },
  {
   "cell_type": "code",
   "execution_count": 18,
   "metadata": {
    "ExecuteTime": {
     "end_time": "2024-01-23T09:57:40.157765Z",
     "start_time": "2024-01-23T09:57:40.098964500Z"
    },
    "collapsed": false
   },
   "outputs": [
    {
     "name": "stdout",
     "output_type": "stream",
     "text": [
      "2024\n",
      "<class 'numpy.str_'>\n"
     ]
    }
   ],
   "source": [
    "print(mixed_arr[2])\n",
    "print(type(mixed_arr[2]))"
   ]
  },
  {
   "cell_type": "markdown",
   "metadata": {},
   "source": [
    "### Laufzeit-Vergleich zwischen Array und Liste"
   ]
  },
  {
   "cell_type": "code",
   "execution_count": 19,
   "metadata": {
    "ExecuteTime": {
     "end_time": "2024-01-23T15:20:43.620690100Z",
     "start_time": "2024-01-23T15:20:40.202090500Z"
    }
   },
   "outputs": [
    {
     "name": "stdout",
     "output_type": "stream",
     "text": [
      "25.9 ms ± 2.2 ms per loop (mean ± std. dev. of 7 runs, 10 loops each)\n"
     ]
    }
   ],
   "source": [
    "# 1. Erstellung\n",
    "%timeit liste3 = list(range(1, 1_000_000))"
   ]
  },
  {
   "cell_type": "code",
   "execution_count": 20,
   "metadata": {
    "ExecuteTime": {
     "end_time": "2024-01-23T15:20:53.993391Z",
     "start_time": "2024-01-23T15:20:43.621688800Z"
    }
   },
   "outputs": [
    {
     "name": "stdout",
     "output_type": "stream",
     "text": [
      "2.01 ms ± 122 μs per loop (mean ± std. dev. of 7 runs, 1,000 loops each)\n"
     ]
    }
   ],
   "source": [
    "# Spezialisierter np.arange Befehl\n",
    "%timeit a = np.arange(1, 1_000_000)"
   ]
  },
  {
   "cell_type": "code",
   "execution_count": 21,
   "metadata": {
    "ExecuteTime": {
     "end_time": "2024-01-23T15:44:44.708876100Z",
     "start_time": "2024-01-23T15:44:44.688098200Z"
    }
   },
   "outputs": [
    {
     "data": {
      "text/plain": [
       "[1,\n",
       " 2,\n",
       " 3,\n",
       " 4,\n",
       " 5,\n",
       " 6,\n",
       " 7,\n",
       " 8,\n",
       " 9,\n",
       " 10,\n",
       " 11,\n",
       " 12,\n",
       " 13,\n",
       " 14,\n",
       " 15,\n",
       " 16,\n",
       " 17,\n",
       " 18,\n",
       " 19,\n",
       " 20,\n",
       " 21,\n",
       " 22,\n",
       " 23,\n",
       " 24,\n",
       " 25,\n",
       " 26,\n",
       " 27,\n",
       " 28,\n",
       " 29,\n",
       " 30,\n",
       " 31,\n",
       " 32,\n",
       " 33,\n",
       " 34,\n",
       " 35,\n",
       " 36,\n",
       " 37,\n",
       " 38,\n",
       " 39,\n",
       " 40,\n",
       " 41,\n",
       " 42,\n",
       " 43,\n",
       " 44,\n",
       " 45,\n",
       " 46,\n",
       " 47,\n",
       " 48,\n",
       " 49,\n",
       " 50,\n",
       " 51,\n",
       " 52,\n",
       " 53,\n",
       " 54,\n",
       " 55,\n",
       " 56,\n",
       " 57,\n",
       " 58,\n",
       " 59,\n",
       " 60,\n",
       " 61,\n",
       " 62,\n",
       " 63,\n",
       " 64,\n",
       " 65,\n",
       " 66,\n",
       " 67,\n",
       " 68,\n",
       " 69,\n",
       " 70,\n",
       " 71,\n",
       " 72,\n",
       " 73,\n",
       " 74,\n",
       " 75,\n",
       " 76,\n",
       " 77,\n",
       " 78,\n",
       " 79,\n",
       " 80,\n",
       " 81,\n",
       " 82,\n",
       " 83,\n",
       " 84,\n",
       " 85,\n",
       " 86,\n",
       " 87,\n",
       " 88,\n",
       " 89,\n",
       " 90,\n",
       " 91,\n",
       " 92,\n",
       " 93,\n",
       " 94,\n",
       " 95,\n",
       " 96,\n",
       " 97,\n",
       " 98,\n",
       " 99]"
      ]
     },
     "execution_count": 21,
     "metadata": {},
     "output_type": "execute_result"
    }
   ],
   "source": [
    "liste3 = list(range(1, 100))\n",
    "liste3"
   ]
  },
  {
   "cell_type": "code",
   "execution_count": 22,
   "metadata": {
    "ExecuteTime": {
     "end_time": "2024-01-23T15:44:43.135731100Z",
     "start_time": "2024-01-23T15:44:43.104996500Z"
    }
   },
   "outputs": [
    {
     "data": {
      "text/plain": [
       "array([ 1,  2,  3,  4,  5,  6,  7,  8,  9, 10, 11, 12, 13, 14, 15, 16, 17,\n",
       "       18, 19, 20, 21, 22, 23, 24, 25, 26, 27, 28, 29, 30, 31, 32, 33, 34,\n",
       "       35, 36, 37, 38, 39, 40, 41, 42, 43, 44, 45, 46, 47, 48, 49, 50, 51,\n",
       "       52, 53, 54, 55, 56, 57, 58, 59, 60, 61, 62, 63, 64, 65, 66, 67, 68,\n",
       "       69, 70, 71, 72, 73, 74, 75, 76, 77, 78, 79, 80, 81, 82, 83, 84, 85,\n",
       "       86, 87, 88, 89, 90, 91, 92, 93, 94, 95, 96, 97, 98, 99])"
      ]
     },
     "execution_count": 22,
     "metadata": {},
     "output_type": "execute_result"
    }
   ],
   "source": [
    "array3 = np.arange(1, 100)\n",
    "array3"
   ]
  },
  {
   "cell_type": "code",
   "execution_count": 23,
   "metadata": {},
   "outputs": [
    {
     "name": "stdout",
     "output_type": "stream",
     "text": [
      "2.49 μs ± 130 ns per loop (mean ± std. dev. of 7 runs, 100,000 loops each)\n"
     ]
    }
   ],
   "source": [
    "# 2. Operationen mit Listen / Arrays\n",
    "# Bei Listen brauchen wir z.B. Comprehensions, um mehrere Werte gleichzeitig zu verändern\n",
    "%timeit [i * 2 for i in liste3]"
   ]
  },
  {
   "cell_type": "code",
   "execution_count": 24,
   "metadata": {},
   "outputs": [
    {
     "name": "stdout",
     "output_type": "stream",
     "text": [
      "1.5 μs ± 472 ns per loop (mean ± std. dev. of 7 runs, 1,000,000 loops each)\n"
     ]
    }
   ],
   "source": [
    "# Bei Numpy werden Operationen automatisch \"vektorisiert\".\n",
    "# Die Operation wird also auf jedes Element einzeln angewandt\n",
    "%timeit array3 * 2"
   ]
  },
  {
   "cell_type": "markdown",
   "metadata": {},
   "source": [
    "## Beschreibung von Arrays\n",
    "\n",
    "Der Array-Datentyp besitzt hilfreiche Attribute. Bei einem Array `a` sind \n",
    "unter anderem interessant:\n",
    "* **Dimensionen** (`a.ndim`): Eine Datenreihe hat 1 Dimension, eine Tabelle (Matrix) 2 usw.\n",
    "* **Shape** (`a.shape`): Die Länge des Arrays entlang jeder Dimension.\n",
    "* **Größe** (`a.size`): Gesamtzahl aller Datenwerte im Array.\n"
   ]
  },
  {
   "cell_type": "code",
   "execution_count": 25,
   "metadata": {
    "ExecuteTime": {
     "end_time": "2024-01-23T09:49:34.220657500Z",
     "start_time": "2024-01-23T09:49:34.203482700Z"
    }
   },
   "outputs": [
    {
     "name": "stdout",
     "output_type": "stream",
     "text": [
      "[[ 1  2  3  4]\n",
      " [ 5  6  7  8]\n",
      " [ 9 10 11 12]]\n",
      "Dimension des Arrays 2\n",
      "Shape/Form des Arrays (3, 4)\n",
      "Größe des Arrays 12\n"
     ]
    }
   ],
   "source": [
    "# Beispiel mit 2 dimensionalem Array\n",
    "a = np.array([[1, 2, 3, 4],\n",
    "              [5, 6, 7, 8],\n",
    "              [9, 10, 11, 12]])\n",
    "\n",
    "print(a)\n",
    "print(\"Dimension des Arrays\", a.ndim)\n",
    "print(\"Shape/Form des Arrays\", a.shape)\n",
    "print(\"Größe des Arrays\", a.size)"
   ]
  },
  {
   "cell_type": "markdown",
   "metadata": {},
   "source": [
    "### Übungsaufgabe\n",
    "- Erstelle ein Array mit 2 Dimensionen und der Form (2,8).  \n",
    "- Die Größe soll 16 betragen (2×8=16).  \n",
    "- Fülle das Array mit beliebigen Inhalten und gib Dimension, Form und Größe aus."
   ]
  },
  {
   "cell_type": "code",
   "execution_count": 26,
   "metadata": {},
   "outputs": [
    {
     "name": "stdout",
     "output_type": "stream",
     "text": [
      "[[ 1  2  3  4  5  6  7  8]\n",
      " [ 9 10 11 12 13 14 15 16]]\n",
      "Dimension des Arrays 2\n",
      "Shape/Form des Arrays (2, 8)\n",
      "Größe des Arrays 16\n"
     ]
    }
   ],
   "source": [
    "a_1 = np.array([[1, 2, 3, 4, 5, 6, 7, 8],\n",
    "                [9, 10, 11, 12, 13, 14, 15, 16]])\n",
    "\n",
    "print(a_1)\n",
    "print(\"Dimension des Arrays\", a_1.ndim)\n",
    "print(\"Shape/Form des Arrays\", a_1.shape)\n",
    "print(\"Größe des Arrays\", a_1.size)"
   ]
  },
  {
   "cell_type": "markdown",
   "metadata": {},
   "source": [
    "Erstelle ein Array mit:\n",
    "- 3 Dimensionen  \n",
    "- Einer Form von (2, 6, 3)  \n",
    "- Und einer Größe von 36 (2×6×3=36)\n"
   ]
  },
  {
   "cell_type": "code",
   "execution_count": 27,
   "metadata": {},
   "outputs": [
    {
     "name": "stdout",
     "output_type": "stream",
     "text": [
      "[[[ 1  2  3]\n",
      "  [ 4  5  6]\n",
      "  [ 7  8  9]\n",
      "  [10 11 12]\n",
      "  [13 14 15]\n",
      "  [16 17 18]]\n",
      "\n",
      " [[ 1  2  3]\n",
      "  [ 4  5  6]\n",
      "  [ 7  8  9]\n",
      "  [10 11 12]\n",
      "  [13 14 15]\n",
      "  [16 17 18]]]\n",
      "Dimension des Arrays 3\n",
      "Shape/Form des Arrays (2, 6, 3)\n",
      "Größe des Arrays 36\n"
     ]
    }
   ],
   "source": [
    "a1 = np.array([[[1, 2, 3],\n",
    "                [4, 5, 6],\n",
    "                [7, 8, 9],\n",
    "                [10, 11, 12],\n",
    "                [13, 14, 15],\n",
    "                [16, 17, 18]],\n",
    "               [[1, 2, 3],\n",
    "                [4, 5, 6],\n",
    "                [7, 8, 9],\n",
    "                [10, 11, 12],\n",
    "                [13, 14, 15],\n",
    "                [16, 17, 18]]])\n",
    "\n",
    "print(a1)\n",
    "print(\"Dimension des Arrays\", a1.ndim)\n",
    "print(\"Shape/Form des Arrays\", a1.shape)\n",
    "print(\"Größe des Arrays\", a1.size)"
   ]
  },
  {
   "cell_type": "markdown",
   "metadata": {},
   "source": [
    "## Funktionen zur Erstellung von Arrays\n",
    "\n",
    "* **`np.empty(shape[, dtype])`**: Erstellt ein Array in der gewünschten Form, füllt es aber mit \"zufälligen\" (nicht initialisierten) Werten im Speicher.\n",
    "* **`np.ones(shape[, dtype])`**: Erstellt ein Array, das nur aus Einsen besteht.\n",
    "* **`np.zeros(shape[, dtype])`**: Erstellt ein Array, das nur aus Nullen besteht.\n",
    "* **`np.full(shape, fill_value[, dtype])`**: Erstellt ein Array, das nur aus einem angegebenen Wert besteht.\n",
    "* **`np.arange(start, stop, step)`**: Erzeugt analog zu `range()` eine Zahlenfolge in Array-Form.\n",
    "* **`np.eye(N, M)`** oder **`np.diag(...)`**: Erzeugt Einheitsmatrizen oder Diagonalmatrizen.\n"
   ]
  },
  {
   "cell_type": "code",
   "execution_count": 28,
   "metadata": {},
   "outputs": [],
   "source": [
    "# https://numpy.org/doc/stable/reference/routines.array-creation.html"
   ]
  },
  {
   "cell_type": "markdown",
   "metadata": {},
   "source": [
    "shape\n",
    "\n",
    "Beschreibt die gewünschte Dimension bzw. Form des Arrays.\n",
    "Typischerweise ein Tupel (z.B. (2, 3) für ein 2x3-Array).\n",
    "Beispiel: np.zeros((2, 3)) erzeugt ein 2 Zeilen × 3 Spalten Array voller Nullen.\n",
    "dtype (optional)\n",
    "\n",
    "Bestimmt den Datentyp der Array-Elemente (z.B. float64, int32, bool, etc.).\n",
    "Wenn du keinen Datentyp angibst, verwendet NumPy meistens einen Standardtyp (oft float64).\n",
    "Beispiel: np.ones((2,3), dtype=int) erzeugt ein 2×3-Array voller Einsen vom Typ int."
   ]
  },
  {
   "cell_type": "code",
   "execution_count": 29,
   "metadata": {},
   "outputs": [
    {
     "name": "stdout",
     "output_type": "stream",
     "text": [
      "[[1 1 1]\n",
      " [1 1 1]]\n"
     ]
    }
   ],
   "source": [
    "test = np.ones((2,3), dtype=int)\n",
    "print(test)"
   ]
  },
  {
   "cell_type": "code",
   "execution_count": 30,
   "metadata": {},
   "outputs": [
    {
     "data": {
      "text/plain": [
       "array([ 1,  3,  5,  7,  9, 11, 13, 15, 17, 19])"
      ]
     },
     "execution_count": 30,
     "metadata": {},
     "output_type": "execute_result"
    }
   ],
   "source": [
    "# Array mit Startwert, Endwert und Schrittweite via np.arange\n",
    "np.arange(1, 20, 2)"
   ]
  },
  {
   "cell_type": "code",
   "execution_count": 31,
   "metadata": {},
   "outputs": [
    {
     "data": {
      "text/plain": [
       "array([[[3, 3],\n",
       "        [3, 3]],\n",
       "\n",
       "       [[3, 3],\n",
       "        [3, 3]]])"
      ]
     },
     "execution_count": 31,
     "metadata": {},
     "output_type": "execute_result"
    }
   ],
   "source": [
    "# Erstellung eines Arrays mit konstantem Wert über alle Elemente, z.B. np.full\n",
    "np.full((2, 2, 2), 3)"
   ]
  },
  {
   "cell_type": "code",
   "execution_count": 59,
   "metadata": {
    "ExecuteTime": {
     "end_time": "2024-01-23T15:51:55.782188800Z",
     "start_time": "2024-01-23T15:51:55.768894800Z"
    }
   },
   "outputs": [
    {
     "data": {
      "text/plain": [
       "array([[25895968444448860, 23925768161198147, 32370111954616435],\n",
       "       [33777413824249948, 18296268630327401, 27303364806049904],\n",
       "       [21392493373358196, 30399714103066735,                 0]])"
      ]
     },
     "execution_count": 59,
     "metadata": {},
     "output_type": "execute_result"
    }
   ],
   "source": [
    "# Leeres Array durch np.empty\n",
    "a2 = np.empty((3, 3), dtype=int)\n",
    "a2"
   ]
  },
  {
   "cell_type": "code",
   "execution_count": 33,
   "metadata": {
    "ExecuteTime": {
     "end_time": "2024-01-23T15:51:56.701534400Z",
     "start_time": "2024-01-23T15:51:56.681534400Z"
    }
   },
   "outputs": [],
   "source": [
    "a2[0, 0] = 4\n",
    "a2[0, 1] = 5\n",
    "a2[0, 2] = 6"
   ]
  },
  {
   "cell_type": "code",
   "execution_count": 34,
   "metadata": {
    "ExecuteTime": {
     "end_time": "2024-01-23T15:51:57.433972800Z",
     "start_time": "2024-01-23T15:51:57.398963800Z"
    }
   },
   "outputs": [],
   "source": [
    "# Mehrere Werte auf einmal setzen\n",
    "a2[1] = [10, 11, 12]"
   ]
  },
  {
   "cell_type": "code",
   "execution_count": 35,
   "metadata": {
    "ExecuteTime": {
     "end_time": "2024-01-23T15:51:58.855341100Z",
     "start_time": "2024-01-23T15:51:58.833136600Z"
    }
   },
   "outputs": [
    {
     "data": {
      "text/plain": [
       "array([[ 4,  5,  6],\n",
       "       [10, 11, 12],\n",
       "       [ 0,  0,  0]])"
      ]
     },
     "execution_count": 35,
     "metadata": {},
     "output_type": "execute_result"
    }
   ],
   "source": [
    "a2"
   ]
  },
  {
   "cell_type": "code",
   "execution_count": 36,
   "metadata": {
    "ExecuteTime": {
     "end_time": "2024-01-23T15:52:02.142489700Z",
     "start_time": "2024-01-23T15:52:02.123359300Z"
    },
    "collapsed": false
   },
   "outputs": [
    {
     "data": {
      "text/plain": [
       "array([[1., 0., 0.],\n",
       "       [0., 1., 0.],\n",
       "       [0., 0., 1.]])"
      ]
     },
     "execution_count": 36,
     "metadata": {},
     "output_type": "execute_result"
    }
   ],
   "source": [
    "# Array mit 1 auf der Diagonalen und 0 sonst: np.eye\n",
    "np.eye(3, 3)"
   ]
  },
  {
   "cell_type": "code",
   "execution_count": 37,
   "metadata": {
    "ExecuteTime": {
     "end_time": "2024-01-23T15:53:03.501256700Z",
     "start_time": "2024-01-23T15:53:03.477632Z"
    }
   },
   "outputs": [
    {
     "data": {
      "text/plain": [
       "array([[1, 0, 0],\n",
       "       [0, 2, 0],\n",
       "       [0, 0, 7]])"
      ]
     },
     "execution_count": 37,
     "metadata": {},
     "output_type": "execute_result"
    }
   ],
   "source": [
    "# Diagonales Array mit beliebigen Werten\n",
    "np.diag([1, 2, 7])"
   ]
  },
  {
   "cell_type": "code",
   "execution_count": 38,
   "metadata": {},
   "outputs": [
    {
     "data": {
      "text/plain": [
       "array([[1, 1, 1, 1],\n",
       "       [1, 1, 1, 1],\n",
       "       [1, 1, 1, 1]])"
      ]
     },
     "execution_count": 38,
     "metadata": {},
     "output_type": "execute_result"
    }
   ],
   "source": [
    "# Arrays mit 1en gefüllt\n",
    "np.ones((3, 4), dtype=int)"
   ]
  },
  {
   "cell_type": "code",
   "execution_count": 39,
   "metadata": {},
   "outputs": [
    {
     "data": {
      "text/plain": [
       "array([[0., 0., 0., 0.],\n",
       "       [0., 0., 0., 0.],\n",
       "       [0., 0., 0., 0.]])"
      ]
     },
     "execution_count": 39,
     "metadata": {},
     "output_type": "execute_result"
    }
   ],
   "source": [
    "np.zeros((3, 4))"
   ]
  },
  {
   "cell_type": "markdown",
   "metadata": {},
   "source": [
    "## Arbeit mit Arrays\n",
    "\n",
    "### Indexing und Slicing\n",
    "\n",
    "Das Indizieren und Slicen (\"Teilstücke\" herausgreifen) funktioniert ähnlich wie bei Listen. Bei mehrdimensionalen Arrays gibst du mit Kommata getrennt einen Index pro Dimension an, also z.B. `a[zeile, spalte]`:\n",
    "\n",
    "```python\n",
    "  a[1:, 2:]  # alle Zeilen ab Index 1, alle Spalten ab Index 2\n",
    "```\n"
   ]
  },
  {
   "cell_type": "code",
   "execution_count": 40,
   "metadata": {
    "ExecuteTime": {
     "end_time": "2024-01-23T15:23:22.231748600Z",
     "start_time": "2024-01-23T15:23:22.208148100Z"
    }
   },
   "outputs": [],
   "source": [
    "# Beispiel-Array definieren\n",
    "a = np.array([[1, 2, 3, 4],\n",
    "              [5, 6, 7, 8],\n",
    "              [9, 10, 11, 12]])"
   ]
  },
  {
   "cell_type": "code",
   "execution_count": 41,
   "metadata": {
    "ExecuteTime": {
     "end_time": "2024-01-23T15:23:23.316351400Z",
     "start_time": "2024-01-23T15:23:23.243825900Z"
    }
   },
   "outputs": [
    {
     "data": {
      "text/plain": [
       "array([[ 1,  2,  3,  4],\n",
       "       [ 5,  6,  7,  8],\n",
       "       [ 9, 10, 11, 12]])"
      ]
     },
     "execution_count": 41,
     "metadata": {},
     "output_type": "execute_result"
    }
   ],
   "source": [
    "a"
   ]
  },
  {
   "cell_type": "code",
   "execution_count": 42,
   "metadata": {
    "ExecuteTime": {
     "end_time": "2024-01-23T15:23:23.983717700Z",
     "start_time": "2024-01-23T15:23:23.970613100Z"
    }
   },
   "outputs": [
    {
     "data": {
      "text/plain": [
       "np.int64(1)"
      ]
     },
     "execution_count": 42,
     "metadata": {},
     "output_type": "execute_result"
    }
   ],
   "source": [
    "# Zugriff auf ein einzelnes Element\n",
    "a[0, 0]"
   ]
  },
  {
   "cell_type": "code",
   "execution_count": 43,
   "metadata": {
    "ExecuteTime": {
     "end_time": "2024-01-23T15:23:25.015023300Z",
     "start_time": "2024-01-23T15:23:25.002505100Z"
    }
   },
   "outputs": [
    {
     "data": {
      "text/plain": [
       "array([[ 7,  8],\n",
       "       [11, 12]])"
      ]
     },
     "execution_count": 43,
     "metadata": {},
     "output_type": "execute_result"
    }
   ],
   "source": [
    "# Zugriff auf Ausschnitt (Slicing)\n",
    "a[1:, 2:]"
   ]
  },
  {
   "cell_type": "code",
   "execution_count": 44,
   "metadata": {
    "ExecuteTime": {
     "end_time": "2024-01-23T15:25:56.077969800Z",
     "start_time": "2024-01-23T15:25:56.054026800Z"
    },
    "collapsed": false
   },
   "outputs": [
    {
     "data": {
      "text/plain": [
       "array([[False, False, False, False],\n",
       "       [False,  True,  True,  True],\n",
       "       [ True,  True,  True,  True]])"
      ]
     },
     "execution_count": 44,
     "metadata": {},
     "output_type": "execute_result"
    }
   ],
   "source": [
    "# Filtern mit Bedingungen: boolesche Maske\n",
    "a > 5  # Matrix-Form von True/False\n"
   ]
  },
  {
   "cell_type": "code",
   "execution_count": 45,
   "metadata": {
    "ExecuteTime": {
     "end_time": "2024-01-23T15:24:42.033780100Z",
     "start_time": "2024-01-23T15:24:42.005717700Z"
    },
    "collapsed": false
   },
   "outputs": [
    {
     "data": {
      "text/plain": [
       "array([ 6,  7,  8,  9, 10, 11, 12])"
      ]
     },
     "execution_count": 45,
     "metadata": {},
     "output_type": "execute_result"
    }
   ],
   "source": [
    "# Aus der Matrix nur jene Werte extrahieren, welche > 5 sind\n",
    "a[a > 5]"
   ]
  },
  {
   "cell_type": "markdown",
   "metadata": {},
   "source": [
    "### Funktionen zur Array-Bearbeitung\n",
    "NumPy bietet zahlreiche Möglichkeiten, Arrays zu sortieren, zu reshapen, zu verkleinern/erweitern usw."
   ]
  },
  {
   "cell_type": "code",
   "execution_count": 46,
   "metadata": {
    "ExecuteTime": {
     "end_time": "2024-01-23T15:54:54.886921300Z",
     "start_time": "2024-01-23T15:54:54.859152200Z"
    }
   },
   "outputs": [
    {
     "data": {
      "text/plain": [
       "array([[ 1,  4,  3,  4],\n",
       "       [55,  6,  7,  8],\n",
       "       [ 9, 17, 11, 12]])"
      ]
     },
     "execution_count": 46,
     "metadata": {},
     "output_type": "execute_result"
    }
   ],
   "source": [
    "# Beispiel Array definieren\n",
    "mein_array = np.array([[1, 4, 3, 4],\n",
    "                       [55, 6, 7, 8],\n",
    "                       [9, 17, 11, 12]])\n",
    "mein_array"
   ]
  },
  {
   "cell_type": "code",
   "execution_count": 47,
   "metadata": {
    "ExecuteTime": {
     "end_time": "2024-01-23T15:54:55.986705800Z",
     "start_time": "2024-01-23T15:54:55.914312200Z"
    }
   },
   "outputs": [
    {
     "data": {
      "text/plain": [
       "array([[ 1,  3,  4,  4],\n",
       "       [ 6,  7,  8, 55],\n",
       "       [ 9, 11, 12, 17]])"
      ]
     },
     "execution_count": 47,
     "metadata": {},
     "output_type": "execute_result"
    }
   ],
   "source": [
    "# Sortieren entlang der letzten Achse (Standard: axis=-1)\n",
    "mein_array.sort()\n",
    "mein_array"
   ]
  },
  {
   "cell_type": "code",
   "execution_count": 48,
   "metadata": {
    "ExecuteTime": {
     "end_time": "2024-01-23T15:55:45.137363200Z",
     "start_time": "2024-01-23T15:55:45.113812200Z"
    },
    "collapsed": false
   },
   "outputs": [
    {
     "data": {
      "text/plain": [
       "array([[ 1,  4,  3,  4],\n",
       "       [ 9,  6,  7,  8],\n",
       "       [55, 17, 11, 12]])"
      ]
     },
     "execution_count": 48,
     "metadata": {},
     "output_type": "execute_result"
    }
   ],
   "source": [
    "# Beispiel eines Sorts über axis=0 (spaltenweise Sortierung)\n",
    "mein_array = np.array([[1, 4, 3, 4],\n",
    "                       [55, 6, 7, 8],\n",
    "                       [9, 17, 11, 12]])\n",
    "mein_array.sort(axis=0)\n",
    "mein_array"
   ]
  },
  {
   "cell_type": "code",
   "execution_count": 49,
   "metadata": {
    "ExecuteTime": {
     "end_time": "2024-01-23T16:05:15.917249100Z",
     "start_time": "2024-01-23T16:05:15.891507500Z"
    }
   },
   "outputs": [
    {
     "data": {
      "text/plain": [
       "array([[[1, 2, 3, 4],\n",
       "        [1, 2, 3, 4]],\n",
       "\n",
       "       [[1, 2, 3, 4],\n",
       "        [1, 2, 3, 4]],\n",
       "\n",
       "       [[5, 6, 7, 8],\n",
       "        [5, 6, 7, 8]],\n",
       "\n",
       "       [[5, 6, 7, 8],\n",
       "        [5, 6, 7, 8]]])"
      ]
     },
     "execution_count": 49,
     "metadata": {},
     "output_type": "execute_result"
    }
   ],
   "source": [
    "# Arrays zusammenfügen: np.concatenate\n",
    "array1 = np.array([[[1, 2, 3, 4],\n",
    "                    [1, 2, 3, 4]],\n",
    "                   [[1, 2, 3, 4],\n",
    "                    [1, 2, 3, 4]]])\n",
    "array2 = np.array([[[5, 6, 7, 8],\n",
    "                    [5, 6, 7, 8]],\n",
    "                   [[5, 6, 7, 8],\n",
    "                    [5, 6, 7, 8]]])\n",
    "np.concatenate((array1, array2))"
   ]
  },
  {
   "cell_type": "code",
   "execution_count": 50,
   "metadata": {
    "ExecuteTime": {
     "end_time": "2024-01-23T16:05:31.391169Z",
     "start_time": "2024-01-23T16:05:31.338128900Z"
    }
   },
   "outputs": [
    {
     "data": {
      "text/plain": [
       "array([[1, 2, 3, 4],\n",
       "       [5, 6, 7, 8]])"
      ]
     },
     "execution_count": 50,
     "metadata": {},
     "output_type": "execute_result"
    }
   ],
   "source": [
    "# Umformen eines Arrays (z.B. aus 1D mach 2D): a.reshape(shape)\n",
    "array1 = np.array([1, 2, 3, 4, 5, 6, 7, 8])\n",
    "array2 = array1.reshape((2, 4))\n",
    "array2"
   ]
  },
  {
   "cell_type": "code",
   "execution_count": 51,
   "metadata": {
    "ExecuteTime": {
     "end_time": "2024-01-23T16:05:33.075980200Z",
     "start_time": "2024-01-23T16:05:32.966540900Z"
    }
   },
   "outputs": [
    {
     "data": {
      "text/plain": [
       "array([1, 2, 3, 4, 5, 6, 7, 8])"
      ]
     },
     "execution_count": 51,
     "metadata": {},
     "output_type": "execute_result"
    }
   ],
   "source": [
    "# Dimensions-Reduktion (\"Abflachung\") mit reshape(-1)\n",
    "array2.reshape(-1)"
   ]
  },
  {
   "cell_type": "code",
   "execution_count": 52,
   "metadata": {
    "ExecuteTime": {
     "end_time": "2024-01-23T16:05:35.881919200Z",
     "start_time": "2024-01-23T16:05:35.839907200Z"
    },
    "collapsed": false
   },
   "outputs": [
    {
     "name": "stdout",
     "output_type": "stream",
     "text": [
      "[[[  1   4   3   4]\n",
      "  [ 55   6   7   8]\n",
      "  [  9  17  11  12]]\n",
      "\n",
      " [[  3   6   1   2]\n",
      "  [ 22  12 321  12]\n",
      "  [ 87   7   1   2]]]\n",
      "Ursprüngliche Dimensionen: 3\n",
      "[  1   4   3   4  55   6   7   8   9  17  11  12   3   6   1   2  22  12\n",
      " 321  12  87   7   1   2]\n",
      "Dimensionen nach \"Abflachung\": 1\n"
     ]
    }
   ],
   "source": [
    "# Beliebig-dimensionales Array zu 1D abflachen mit flatten()\n",
    "mein_array = np.array([[[1, 4, 3, 4],\n",
    "                       [55, 6, 7, 8],\n",
    "                       [9, 17, 11, 12]],\n",
    "                      [[3, 6, 1, 2],\n",
    "                       [22, 12, 321, 12],\n",
    "                       [87, 7, 1, 2]]])\n",
    "\n",
    "flattened_array = mein_array.flatten()\n",
    "print(mein_array)\n",
    "print('Ursprüngliche Dimensionen:', mein_array.ndim)\n",
    "print(flattened_array)\n",
    "print('Dimensionen nach \"Abflachung\":', flattened_array.ndim)"
   ]
  },
  {
   "cell_type": "code",
   "execution_count": 53,
   "metadata": {
    "ExecuteTime": {
     "end_time": "2024-01-23T16:06:17.206990100Z",
     "start_time": "2024-01-23T16:06:17.185950100Z"
    }
   },
   "outputs": [
    {
     "name": "stdout",
     "output_type": "stream",
     "text": [
      "[1 2 3 4 5 6 7 8]\n",
      "[1 2 3 4]\n",
      "[5 6 7 8]\n"
     ]
    }
   ],
   "source": [
    "# Aufteilen von Arrays: np.split(a, index)\n",
    "array1 = np.array([1, 2, 3, 4, 5, 6, 7, 8])\n",
    "print(array1)\n",
    "part1, part2 = np.split(array1, 2)\n",
    "print(part1)\n",
    "print(part2)"
   ]
  },
  {
   "cell_type": "markdown",
   "metadata": {},
   "source": [
    "#### Übungsaufgabe (reshape)\n",
    "\n",
    "Erstelle einen Array mit einer Dimension von den Zahlen 1 bis 12. Splite daraus zwei Teile und forme beide Teil-Arrays anschließend zu jeweils `(3,2)` um."
   ]
  },
  {
   "cell_type": "code",
   "execution_count": 12,
   "metadata": {},
   "outputs": [
    {
     "name": "stdout",
     "output_type": "stream",
     "text": [
      "[1 2 3 4 5 6] [ 7  8  9 10 11 12]\n"
     ]
    },
    {
     "data": {
      "text/plain": [
       "(array([[1, 2],\n",
       "        [3, 4],\n",
       "        [5, 6]]),\n",
       " array([[ 7,  8],\n",
       "        [ 9, 10],\n",
       "        [11, 12]]))"
      ]
     },
     "execution_count": 12,
     "metadata": {},
     "output_type": "execute_result"
    }
   ],
   "source": [
    "a = np.array([1, 2, 3, 4, 5, 6, 7, 8, 9, 10, 11, 12])\n",
    "a1, a2 = np.split(a, 2)\n",
    "print(a1, a2)\n",
    "a1_reshaped = a1.reshape((3, 2))\n",
    "a2_reshaped = a2.reshape((3, 2))\n",
    "a1_reshaped, a2_reshaped"
   ]
  },
  {
   "cell_type": "markdown",
   "metadata": {},
   "source": [
    "## Berechnungen mit Arrays\n",
    "\n",
    "Im Gegensatz zum `list`-Typen brauchst du bei Arrays keine Schleifen oder List Comprehensions, um eine Rechenoperation auf jedes Element anzuwenden. Du kannst einfach die normalen Operatoren verwenden!"
   ]
  },
  {
   "cell_type": "code",
   "execution_count": 55,
   "metadata": {},
   "outputs": [
    {
     "name": "stdout",
     "output_type": "stream",
     "text": [
      "[1 2 3 4 5 6] [0 1 2 3 4 5] [0.5 1.  1.5 2.  2.5 3. ]\n"
     ]
    }
   ],
   "source": [
    "a = np.array([1, 2, 3, 4, 5, 6])\n",
    "b = a - 1   # b erhält [0, 1, 2, 3, 4, 5]\n",
    "c = a / 2   # c erhält [0.5, 1, 1.5, 2, 2.5, 3]\n",
    "print(a, b, c)"
   ]
  },
  {
   "cell_type": "code",
   "execution_count": 56,
   "metadata": {},
   "outputs": [
    {
     "data": {
      "text/plain": [
       "np.float64(3.5)"
      ]
     },
     "execution_count": 56,
     "metadata": {},
     "output_type": "execute_result"
    }
   ],
   "source": [
    "# Mittelwert eines Arrays\n",
    "np.mean(a)"
   ]
  },
  {
   "cell_type": "code",
   "execution_count": 57,
   "metadata": {},
   "outputs": [
    {
     "data": {
      "text/plain": [
       "np.int64(21)"
      ]
     },
     "execution_count": 57,
     "metadata": {},
     "output_type": "execute_result"
    }
   ],
   "source": [
    "# Summe eines Arrays\n",
    "np.sum(a)"
   ]
  },
  {
   "cell_type": "code",
   "execution_count": 58,
   "metadata": {},
   "outputs": [
    {
     "data": {
      "text/plain": [
       "np.int64(1)"
      ]
     },
     "execution_count": 58,
     "metadata": {},
     "output_type": "execute_result"
    }
   ],
   "source": [
    "# Minimum eines Arrays\n",
    "np.amin(a)"
   ]
  }
 ],
 "metadata": {
  "kernelspec": {
   "display_name": "Python 3",
   "language": "python",
   "name": "python3"
  },
  "language_info": {
   "codemirror_mode": {
    "name": "ipython",
    "version": 3
   },
   "file_extension": ".py",
   "mimetype": "text/x-python",
   "name": "python",
   "nbconvert_exporter": "python",
   "pygments_lexer": "ipython3",
   "version": "3.13.1"
  }
 },
 "nbformat": 4,
 "nbformat_minor": 2
}
