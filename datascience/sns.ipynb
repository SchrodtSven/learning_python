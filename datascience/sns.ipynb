{
 "cells": [
  {
   "cell_type": "markdown",
   "id": "e58fd031",
   "metadata": {},
   "source": [
    "# Playing with seaborn\n"
   ]
  },
  {
   "cell_type": "code",
   "execution_count": null,
   "id": "12325c56",
   "metadata": {},
   "outputs": [
    {
     "data": {
      "text/plain": [
       "array([1, 2, 3, 5, 4, 6, 7])"
      ]
     },
     "execution_count": 3,
     "metadata": {},
     "output_type": "execute_result"
    }
   ],
   "source": [
    "import seaborn as sns\n",
    "\n",
    "diamonds = sns.load_dataset('planets')\n",
    "diamonds['number'].unique()\n",
    "\n",
    "diamonds.info(memory_usage='deep')\n",
    "\n",
    "\n"
   ]
  },
  {
   "cell_type": "code",
   "execution_count": 2,
   "id": "17f42f83",
   "metadata": {},
   "outputs": [
    {
     "name": "stdout",
     "output_type": "stream",
     "text": [
      "     species  body_mass_g  flipper_length_mm\n",
      "0     Adelie  3700.662252         189.953642\n",
      "1  Chinstrap  3733.088235         195.823529\n",
      "2     Gentoo  5076.016260         217.186992\n"
     ]
    }
   ],
   "source": [
    "import seaborn as sns\n",
    "\n",
    "penguins = sns.load_dataset('penguins')\n",
    "grouped_stats = penguins.groupby(\"species\").agg({\n",
    "    \"body_mass_g\": \"mean\",\n",
    "    \"flipper_length_mm\": \"mean\"\n",
    "}).reset_index()\n",
    "\n",
    "print(grouped_stats)"
   ]
  }
 ],
 "metadata": {
  "kernelspec": {
   "display_name": "Python 3",
   "language": "python",
   "name": "python3"
  },
  "language_info": {
   "codemirror_mode": {
    "name": "ipython",
    "version": 3
   },
   "file_extension": ".py",
   "mimetype": "text/x-python",
   "name": "python",
   "nbconvert_exporter": "python",
   "pygments_lexer": "ipython3",
   "version": "3.13.2"
  }
 },
 "nbformat": 4,
 "nbformat_minor": 5
}
