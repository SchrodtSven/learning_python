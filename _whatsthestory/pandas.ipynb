{
 "cells": [
  {
   "cell_type": "markdown",
   "id": "2dec206d",
   "metadata": {},
   "source": [
    "# Pandas \n",
    "\n",
    "## Some basic stuff"
   ]
  },
  {
   "cell_type": "code",
   "execution_count": 1,
   "id": "d5bcf0a8",
   "metadata": {},
   "outputs": [],
   "source": [
    "import pandas as pd\n",
    "import numpy as np\n"
   ]
  },
  {
   "cell_type": "markdown",
   "id": "3533d6b0",
   "metadata": {},
   "source": [
    "# Normalisation, bins"
   ]
  },
  {
   "cell_type": "code",
   "execution_count": 2,
   "id": "329147f4",
   "metadata": {},
   "outputs": [
    {
     "name": "stdout",
     "output_type": "stream",
     "text": [
      "3.0    2\n",
      "1.0    1\n",
      "2.0    1\n",
      "4.0    1\n",
      "Name: count, dtype: int64\n",
      "3.0    0.4\n",
      "1.0    0.2\n",
      "2.0    0.2\n",
      "4.0    0.2\n",
      "Name: proportion, dtype: float64\n",
      "(0.996, 2.0]    2\n",
      "(2.0, 3.0]      2\n",
      "(3.0, 4.0]      1\n",
      "Name: count, dtype: int64\n"
     ]
    }
   ],
   "source": [
    "index = pd.Index([3, 1, 2, 3, 4, np.nan])\n",
    "\n",
    "print(index.value_counts())\n",
    "\n",
    "s = pd.Series([3, 1, 2, 3, 4, np.nan])\n",
    "\n",
    "print(s.value_counts(normalize=True))\n",
    "\n",
    "\n",
    "print(s.value_counts(bins=3))\n",
    "# With normalize set to True, returns the relative frequency by dividing all values by the sum of values."
   ]
  },
  {
   "cell_type": "markdown",
   "id": "8eb4c46a",
   "metadata": {},
   "source": [
    "Show NaN values also"
   ]
  },
  {
   "cell_type": "code",
   "execution_count": 3,
   "id": "aba22483",
   "metadata": {},
   "outputs": [
    {
     "data": {
      "text/plain": [
       "3.0    2\n",
       "1.0    1\n",
       "2.0    1\n",
       "4.0    1\n",
       "NaN    1\n",
       "Name: count, dtype: int64"
      ]
     },
     "execution_count": 3,
     "metadata": {},
     "output_type": "execute_result"
    }
   ],
   "source": [
    "s.value_counts(dropna=False)"
   ]
  }
 ],
 "metadata": {
  "kernelspec": {
   "display_name": "Python 3",
   "language": "python",
   "name": "python3"
  },
  "language_info": {
   "codemirror_mode": {
    "name": "ipython",
    "version": 3
   },
   "file_extension": ".py",
   "mimetype": "text/x-python",
   "name": "python",
   "nbconvert_exporter": "python",
   "pygments_lexer": "ipython3",
   "version": "3.13.2"
  }
 },
 "nbformat": 4,
 "nbformat_minor": 5
}
