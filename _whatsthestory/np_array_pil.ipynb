{
 "cells": [
  {
   "cell_type": "code",
   "execution_count": 1,
   "id": "199b3443",
   "metadata": {},
   "outputs": [],
   "source": [
    "import numpy as np\n",
    "from PIL import Image"
   ]
  },
  {
   "cell_type": "markdown",
   "id": "45090fe1",
   "metadata": {},
   "source": [
    "# Foo"
   ]
  },
  {
   "cell_type": "code",
   "execution_count": 2,
   "id": "41ebe43e",
   "metadata": {},
   "outputs": [
    {
     "data": {
      "text/plain": [
       "array([1, 2, 3, 4, 5])"
      ]
     },
     "execution_count": 2,
     "metadata": {},
     "output_type": "execute_result"
    }
   ],
   "source": [
    "arr_1d = np.array([1,2,3,4,5])\n",
    "\n",
    "arr_1d"
   ]
  },
  {
   "cell_type": "code",
   "execution_count": 5,
   "id": "5961c696",
   "metadata": {},
   "outputs": [
    {
     "name": "stdout",
     "output_type": "stream",
     "text": [
      "[[  1   2   3]\n",
      " [  5   6   9]\n",
      " [ 66  42 666]]\n",
      "[[[1 0]\n",
      "  [0 0]]\n",
      "\n",
      " [[0 0]\n",
      "  [0 1]]\n",
      "\n",
      " [[1 1]\n",
      "  [1 1]]]\n"
     ]
    }
   ],
   "source": [
    "arr_2d = np.array([\n",
    "    [1,2,3],\n",
    "    [5,6,9],\n",
    "    [66, 42, 666]\n",
    "    ])\n",
    "\n",
    "print(arr_2d)\n",
    "\n",
    "arr_3d = np.array([\n",
    "    [[1,0], [0,0]],\n",
    "    [[0,0], [0,1]],\n",
    "    [[1,1], [1,1]]\n",
    "    ])\n",
    "\n",
    "print(arr_3d)"
   ]
  },
  {
   "cell_type": "code",
   "execution_count": 7,
   "id": "59689513",
   "metadata": {},
   "outputs": [
    {
     "name": "stdout",
     "output_type": "stream",
     "text": [
      "[1, 2, 44, 66]\n"
     ]
    }
   ],
   "source": [
    "print([1, 2, 44, 66])"
   ]
  }
 ],
 "metadata": {
  "kernelspec": {
   "display_name": "Python 3",
   "language": "python",
   "name": "python3"
  },
  "language_info": {
   "codemirror_mode": {
    "name": "ipython",
    "version": 3
   },
   "file_extension": ".py",
   "mimetype": "text/x-python",
   "name": "python",
   "nbconvert_exporter": "python",
   "pygments_lexer": "ipython3",
   "version": "3.13.2"
  }
 },
 "nbformat": 4,
 "nbformat_minor": 5
}
