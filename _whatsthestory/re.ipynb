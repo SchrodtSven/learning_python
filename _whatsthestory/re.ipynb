{
 "cells": [
  {
   "cell_type": "markdown",
   "id": "267613e5",
   "metadata": {},
   "source": [
    "# Regular expressions in Python\n",
    "\n",
    "## Metacharacters - full list\n",
    "- <code>. ^ $ * + ? { } [ ] \\ | ( )</code>\n",
    "\n",
    "Metacharacters <em>(except <code> \\ </code>)</em> are not active inside classes. For example, <code>[akm$]</code> will match any of the characters 'a', 'k', 'm', or '\\$' \n",
    "'\\$' is usually a metacharacter, but inside a character class it’s stripped of its special nature.\n",
    "<kbd>foo()</kbd>\n",
    "<samp><kbd>42.23</kbd></samp>"
   ]
  },
  {
   "cell_type": "markdown",
   "id": "b0d92569",
   "metadata": {},
   "source": [
    "\n",
    "<code>\\d</code>\n",
    "Matches any decimal digit; this is equivalent to the class [0-9].\n",
    "\n",
    "<code>\\D</code>\n",
    "Matches any non-digit character; this is equivalent to the class [^0-9].\n",
    "\n",
    "<code>\\s</code>\n",
    "Matches any whitespace character; this is equivalent to the class [ \\t\\n\\r\\f\\v].\n",
    "\n",
    "<code>\\S</code>\n",
    "Matches any non-whitespace character; this is equivalent to the class [^ \\t\\n\\r\\f\\v].\n",
    "\n",
    "<code>\\w</code>\n",
    "Matches any alphanumeric character; this is equivalent to the class [a-zA-Z0-9_].\n",
    "\n",
    "<code>\\W</code> \n",
    "Matches any non-alphanumeric character; this is equivalent to the class [^a-zA-Z0-9_].\n"
   ]
  }
 ],
 "metadata": {
  "language_info": {
   "name": "python"
  }
 },
 "nbformat": 4,
 "nbformat_minor": 5
}
